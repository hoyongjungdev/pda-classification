{
 "cells": [
  {
   "cell_type": "code",
   "execution_count": 25,
   "metadata": {},
   "outputs": [],
   "source": [
    "import pandas as pd\n",
    "import numpy as np\n",
    "import matplotlib.pyplot as plt"
   ]
  },
  {
   "cell_type": "code",
   "execution_count": 26,
   "metadata": {},
   "outputs": [
    {
     "name": "stdout",
     "output_type": "stream",
     "text": [
      "407\n"
     ]
    }
   ],
   "source": [
    "total_df = pd.read_csv('data/pda.csv')\n",
    "\n",
    "ids = total_df['pid_ri'].unique()\n",
    "ids.sort()\n",
    "\n",
    "df_by_ids = dict()\n",
    "\n",
    "for id in ids:\n",
    "    item = total_df[total_df['pid_ri'] == id]\n",
    "    item = item.set_index('DAY')\n",
    "    item = item.interpolate(limit_direction='both')\n",
    "    \n",
    "    na_count = item.isna().sum().sum()\n",
    "\n",
    "    if na_count == 0:\n",
    "        df_by_ids[id] = item\n",
    "\n",
    "print(len(df_by_ids))\n",
    "\n",
    "dim = df_by_ids[1].shape[1] - 3"
   ]
  },
  {
   "cell_type": "code",
   "execution_count": 27,
   "metadata": {},
   "outputs": [
    {
     "data": {
      "text/plain": [
       "array([ 0.00000000e+00,  2.30000000e+01,  3.80000000e+02,  1.00000000e+00,\n",
       "        0.00000000e+00,  0.00000000e+00,  0.00000000e+00,  0.00000000e+00,\n",
       "        0.00000000e+00,  0.00000000e+00,  0.00000000e+00,  0.00000000e+00,\n",
       "        0.00000000e+00,  0.00000000e+00,  0.00000000e+00,  0.00000000e+00,\n",
       "        0.00000000e+00,  0.00000000e+00,  0.00000000e+00,  6.50000000e+00,\n",
       "        9.40000000e+00,  9.00000000e+00,  5.60000000e+00, -2.60000000e+01,\n",
       "        7.11300000e+00,  2.19000000e+01,  2.20000000e+01,  1.23000000e+01,\n",
       "       -1.70000000e+01,  6.79450000e+00,  2.19000000e+01,  2.20000000e+01,\n",
       "        1.20000000e+01, -2.30000000e+01,  6.86025000e+00,  2.19000000e+01,\n",
       "        2.20000000e+01,  1.23000000e+01, -1.74705882e+01,  6.71975000e+00,\n",
       "        2.01500000e+01,  1.72500000e+01,  1.02500000e+01, -2.30000000e+01,\n",
       "        6.93500000e+00,  2.19000000e+01,  2.20000000e+01,  1.23000000e+01,\n",
       "       -1.70000000e+01,  0.00000000e+00,  0.00000000e+00,  0.00000000e+00,\n",
       "        0.00000000e+00,  0.00000000e+00,  0.00000000e+00,  0.00000000e+00,\n",
       "        0.00000000e+00,  0.00000000e+00,  0.00000000e+00,  0.00000000e+00,\n",
       "        3.12000000e+01,  0.00000000e+00,  0.00000000e+00,  0.00000000e+00,\n",
       "        1.08000000e+02,  3.65000000e+01,  0.00000000e+00,  2.90000000e+01,\n",
       "        1.50000000e+01,  5.00000000e+01,  3.51000000e+01,  0.00000000e+00,\n",
       "        2.60000000e+01,  1.15000000e+01,  9.00740741e+01,  3.46810811e+01,\n",
       "        0.00000000e+00,  2.54000000e+01,  1.09000000e+01,  4.50000000e+01,\n",
       "        3.33000000e+01,  0.00000000e+00,  2.40000000e+01,  9.25000000e+00,\n",
       "        1.04000000e+02,  3.57000000e+01,  0.00000000e+00,  2.67500000e+01,\n",
       "        1.20000000e+01,  1.66295884e+00,  4.15739710e-02,  0.00000000e+00,\n",
       "        0.00000000e+00,  0.00000000e+00,  2.76543210e+00,  1.72839506e-03,\n",
       "        0.00000000e+00,  0.00000000e+00,  0.00000000e+00])"
      ]
     },
     "execution_count": 27,
     "metadata": {},
     "output_type": "execute_result"
    }
   ],
   "source": [
    "min_val = np.empty(dim)\n",
    "max_val = np.empty(dim)\n",
    "\n",
    "for i in range(dim):\n",
    "    feature = total_df.iloc[:, 3+i]\n",
    "    min_val[i] = feature.min()\n",
    "    max_val[i] = feature.max()\n",
    "\n",
    "min_val"
   ]
  },
  {
   "cell_type": "code",
   "execution_count": 28,
   "metadata": {},
   "outputs": [
    {
     "name": "stdout",
     "output_type": "stream",
     "text": [
      "(4723,)\n",
      "(4723, 15, 99)\n",
      "[[[0.         0.         0.         ... 0.         0.         0.        ]\n",
      "  [0.         0.         0.         ... 0.         0.         0.        ]\n",
      "  [0.         0.         0.         ... 0.         0.         0.        ]\n",
      "  ...\n",
      "  [0.         0.         0.         ... 0.         0.         0.        ]\n",
      "  [0.         0.         0.         ... 0.         0.         0.        ]\n",
      "  [1.         1.5        1.98198198 ... 1.06609368 1.10349666 1.09113899]]\n",
      "\n",
      " [[0.         0.         0.         ... 0.         0.         0.        ]\n",
      "  [0.         0.         0.         ... 0.         0.         0.        ]\n",
      "  [0.         0.         0.         ... 0.         0.         0.        ]\n",
      "  ...\n",
      "  [0.         0.         0.         ... 0.         0.         0.        ]\n",
      "  [1.         1.5        1.98198198 ... 1.06609368 1.10349666 1.09113899]\n",
      "  [1.         1.5        1.98198198 ... 1.03405201 1.09358251 1.08035161]]\n",
      "\n",
      " [[0.         0.         0.         ... 0.         0.         0.        ]\n",
      "  [0.         0.         0.         ... 0.         0.         0.        ]\n",
      "  [0.         0.         0.         ... 0.         0.         0.        ]\n",
      "  ...\n",
      "  [1.         1.5        1.98198198 ... 1.06609368 1.10349666 1.09113899]\n",
      "  [1.         1.5        1.98198198 ... 1.03405201 1.09358251 1.08035161]\n",
      "  [1.         1.5        1.98198198 ... 1.05195149 1.0637226  1.03298989]]\n",
      "\n",
      " ...\n",
      "\n",
      " [[0.         0.         0.         ... 0.         0.         0.        ]\n",
      "  [0.         0.         0.         ... 0.         0.         0.        ]\n",
      "  [2.         1.42857143 1.83783784 ... 1.12882627 1.10048387 1.10767986]\n",
      "  ...\n",
      "  [2.         1.42857143 1.83783784 ... 1.07340691 1.04588527 1.0856409 ]\n",
      "  [2.         1.42857143 1.83783784 ... 1.09097459 1.04544802 1.02672644]\n",
      "  [2.         1.42857143 1.83783784 ... 1.09680342 1.07986725 1.03577836]]\n",
      "\n",
      " [[0.         0.         0.         ... 0.         0.         0.        ]\n",
      "  [2.         1.42857143 1.83783784 ... 1.12882627 1.10048387 1.10767986]\n",
      "  [2.         1.42857143 1.83783784 ... 1.05570596 1.03110215 1.04849956]\n",
      "  ...\n",
      "  [2.         1.42857143 1.83783784 ... 1.09097459 1.04544802 1.02672644]\n",
      "  [2.         1.42857143 1.83783784 ... 1.09680342 1.07986725 1.03577836]\n",
      "  [2.         1.42857143 1.83783784 ... 1.14432463 1.03013021 1.02522854]]\n",
      "\n",
      " [[2.         1.42857143 1.83783784 ... 1.12882627 1.10048387 1.10767986]\n",
      "  [2.         1.42857143 1.83783784 ... 1.05570596 1.03110215 1.04849956]\n",
      "  [2.         1.42857143 1.83783784 ... 1.19051049 1.03801374 1.03793642]\n",
      "  ...\n",
      "  [2.         1.42857143 1.83783784 ... 1.09680342 1.07986725 1.03577836]\n",
      "  [2.         1.42857143 1.83783784 ... 1.14432463 1.03013021 1.02522854]\n",
      "  [2.         1.42857143 1.83783784 ... 1.04024417 1.03736146 1.04710477]]]\n"
     ]
    }
   ],
   "source": [
    "x = []\n",
    "y = []\n",
    "\n",
    "zero_length = []\n",
    "one_length = []\n",
    "\n",
    "max_length = 15\n",
    "\n",
    "for id in df_by_ids:\n",
    "    df = df_by_ids[id]\n",
    "\n",
    "    data = df.iloc[:15, 3:].to_numpy()\n",
    "\n",
    "    data = (data - min_val) / (max_val - min_val) + 1\n",
    "\n",
    "    size = data.shape[0]\n",
    "\n",
    "    for i in range(1, size+1):\n",
    "        padded_data = np.zeros((max_length, dim))\n",
    "\n",
    "        for j in range(i):\n",
    "            padded_data[max_length - i + j] = data[j]\n",
    "\n",
    "        y.append(df['PDA'].iloc[0])\n",
    "        x.append(padded_data)\n",
    "\n",
    "        if y[-1] == 0:\n",
    "            zero_length.append(i)\n",
    "        else:\n",
    "            one_length.append(i)\n",
    "\n",
    "y = np.array(y)\n",
    "x = np.array(x)\n",
    "\n",
    "print(y.shape)\n",
    "print(x.shape)\n",
    "\n",
    "print(x)"
   ]
  },
  {
   "cell_type": "code",
   "execution_count": 29,
   "metadata": {},
   "outputs": [
    {
     "name": "stdout",
     "output_type": "stream",
     "text": [
      "568\n",
      "0.12026254499258945\n"
     ]
    }
   ],
   "source": [
    "print(len(y[y==1]))\n",
    "a = len(y[y==1]) \n",
    "b = len(y)\n",
    "print(a/b)"
   ]
  },
  {
   "cell_type": "code",
   "execution_count": 30,
   "metadata": {},
   "outputs": [
    {
     "data": {
      "image/png": "[encoded data removed]",
      "text/plain": [
       "<Figure size 750x525 with 1 Axes>"
      ]
     },
     "metadata": {
      "needs_background": "light"
     },
     "output_type": "display_data"
    }
   ],
   "source": [
    "plt.figure(figsize=(5, 3.5), dpi=150)\n",
    "\n",
    "plt.hist(zero_length, bins=15, label='Control')\n",
    "plt.hist(one_length, bins=15, label='PDA')\n",
    "\n",
    "plt.legend()\n",
    "\n",
    "plt.show()"
   ]
  },
  {
   "cell_type": "code",
   "execution_count": 31,
   "metadata": {},
   "outputs": [],
   "source": [
    "np.save('data/y.npy', y)\n",
    "np.save('data/x.npy', x)"
   ]
  }
 ],
 "metadata": {
  "kernelspec": {
   "display_name": "Python 3 (ipykernel)",
   "language": "python",
   "name": "python3"
  },
  "language_info": {
   "codemirror_mode": {
    "name": "ipython",
    "version": 3
   },
   "file_extension": ".py",
   "mimetype": "text/x-python",
   "name": "python",
   "nbconvert_exporter": "python",
   "pygments_lexer": "ipython3",
   "version": "3.9.5"
  },
  "orig_nbformat": 4
 },
 "nbformat": 4,
 "nbformat_minor": 2
}
