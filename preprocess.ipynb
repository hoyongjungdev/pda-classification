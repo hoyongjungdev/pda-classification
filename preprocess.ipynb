{
 "cells": [
  {
   "cell_type": "code",
   "execution_count": 113,
   "metadata": {},
   "outputs": [],
   "source": [
    "import pandas as pd\n",
    "import numpy as np"
   ]
  },
  {
   "cell_type": "code",
   "execution_count": 114,
   "metadata": {},
   "outputs": [
    {
     "name": "stdout",
     "output_type": "stream",
     "text": [
      "407\n"
     ]
    }
   ],
   "source": [
    "total_df = pd.read_csv('data/pda.csv')\n",
    "\n",
    "ids = total_df['pid_ri'].unique()\n",
    "ids.sort()\n",
    "\n",
    "df_by_ids = dict()\n",
    "\n",
    "for id in ids:\n",
    "    item = total_df[total_df['pid_ri'] == id]\n",
    "    item = item.set_index('DAY')\n",
    "    item = item.interpolate(limit_direction='both')\n",
    "    \n",
    "    na_count = item.isna().sum().sum()\n",
    "\n",
    "    if na_count == 0:\n",
    "        df_by_ids[id] = item\n",
    "\n",
    "print(len(df_by_ids))"
   ]
  },
  {
   "cell_type": "code",
   "execution_count": 115,
   "metadata": {},
   "outputs": [
    {
     "name": "stdout",
     "output_type": "stream",
     "text": [
      "(323,)\n",
      "(323, 5, 99)\n"
     ]
    }
   ],
   "source": [
    "x = []\n",
    "y = []\n",
    "\n",
    "for id in df_by_ids:\n",
    "    df = df_by_ids[id]\n",
    "\n",
    "    if len(df) >= 5:\n",
    "        y.append(df['PDA'].iloc[0])\n",
    "        x.append(df.iloc[:5, 3:].to_numpy())\n",
    "\n",
    "y = np.array(y)\n",
    "x = np.array(x)\n",
    "\n",
    "print(y.shape)\n",
    "print(x.shape)\n",
    "\n",
    "np.save('data/y.npy', y)\n",
    "np.save('data/x.npy', x)"
   ]
  },
  {
   "cell_type": "code",
   "execution_count": 120,
   "metadata": {},
   "outputs": [
    {
     "name": "stdout",
     "output_type": "stream",
     "text": [
      "46\n",
      "0.14241486068111456\n"
     ]
    }
   ],
   "source": [
    "print(len(y[y==1]))\n",
    "a = len(y[y==1]) \n",
    "b = len(y)\n",
    "print(a/b)"
   ]
  }
 ],
 "metadata": {
  "kernelspec": {
   "display_name": "Python 3 (ipykernel)",
   "language": "python",
   "name": "python3"
  },
  "language_info": {
   "codemirror_mode": {
    "name": "ipython",
    "version": 3
   },
   "file_extension": ".py",
   "mimetype": "text/x-python",
   "name": "python",
   "nbconvert_exporter": "python",
   "pygments_lexer": "ipython3",
   "version": "3.9.5"
  },
  "orig_nbformat": 4
 },
 "nbformat": 4,
 "nbformat_minor": 2
}
