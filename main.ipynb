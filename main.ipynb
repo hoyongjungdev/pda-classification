{
  "cells": [
    {
      "cell_type": "markdown",
      "metadata": {
        "id": "99iErE3ku1tM"
      },
      "source": [
        "## 공통"
      ]
    },
    {
      "cell_type": "code",
      "execution_count": 609,
      "metadata": {},
      "outputs": [
        {
          "name": "stdout",
          "output_type": "stream",
          "text": [
            "Requirement already satisfied: torch in /Users/hoyong/miniconda3/lib/python3.9/site-packages (1.10.0)\n",
            "Requirement already satisfied: typing-extensions in /Users/hoyong/miniconda3/lib/python3.9/site-packages (from torch) (3.10.0.2)\n",
            "Requirement already satisfied: matplotlib in /Users/hoyong/miniconda3/lib/python3.9/site-packages (3.4.3)\n",
            "Requirement already satisfied: pillow>=6.2.0 in /Users/hoyong/miniconda3/lib/python3.9/site-packages (from matplotlib) (8.4.0)\n",
            "Requirement already satisfied: numpy>=1.16 in /Users/hoyong/miniconda3/lib/python3.9/site-packages (from matplotlib) (1.20.3)\n",
            "Requirement already satisfied: cycler>=0.10 in /Users/hoyong/miniconda3/lib/python3.9/site-packages (from matplotlib) (0.10.0)\n",
            "Requirement already satisfied: kiwisolver>=1.0.1 in /Users/hoyong/miniconda3/lib/python3.9/site-packages (from matplotlib) (1.3.2)\n",
            "Requirement already satisfied: pyparsing>=2.2.1 in /Users/hoyong/miniconda3/lib/python3.9/site-packages (from matplotlib) (2.4.7)\n",
            "Requirement already satisfied: python-dateutil>=2.7 in /Users/hoyong/miniconda3/lib/python3.9/site-packages (from matplotlib) (2.8.2)\n",
            "Requirement already satisfied: six in /Users/hoyong/miniconda3/lib/python3.9/site-packages (from cycler>=0.10->matplotlib) (1.16.0)\n"
          ]
        }
      ],
      "source": [
        "!pip install torch\n",
        "!pip install matplotlib"
      ]
    },
    {
      "cell_type": "code",
      "execution_count": 626,
      "metadata": {
        "id": "NN6tVhR7u1aZ"
      },
      "outputs": [],
      "source": [
        "import pandas as pd\n",
        "import numpy as np\n",
        "import matplotlib.pyplot as plt\n",
        "\n",
        "import torch\n",
        "import torch.nn as nn\n",
        "import torch.optim as optim\n",
        "\n",
        "from torch.utils.data import TensorDataset, DataLoader\n",
        "\n",
        "from sklearn.model_selection import train_test_split\n",
        "\n",
        "from itertools import product"
      ]
    },
    {
      "cell_type": "markdown",
      "metadata": {
        "id": "j7SVz79lscU6"
      },
      "source": [
        "## 데이터 정리"
      ]
    },
    {
      "cell_type": "code",
      "execution_count": 647,
      "metadata": {
        "colab": {
          "base_uri": "https://localhost:8080/"
        },
        "id": "__DlAaBSrUKr",
        "outputId": "4d88fe05-a668-47f4-9f89-fc22a4261062"
      },
      "outputs": [],
      "source": [
        "np.random.seed(0)\n",
        "\n",
        "USE_COLAB = False\n",
        "\n",
        "PREFIX = ''\n",
        "\n",
        "path = 'model.pt'\n",
        "\n",
        "DEBUG = True\n",
        "\n",
        "if USE_COLAB:\n",
        "    from google.colab import drive\n",
        "    drive.mount('/content/drive')\n",
        "\n",
        "    PREFIX = '/content/drive/My Drive/'"
      ]
    },
    {
      "cell_type": "code",
      "execution_count": 612,
      "metadata": {
        "colab": {
          "base_uri": "https://localhost:8080/"
        },
        "id": "4Z0fEVlqUpQj",
        "outputId": "52fa012f-a8f3-4cc6-e104-eb3b6b2e2b41"
      },
      "outputs": [],
      "source": [
        "# finger_data 폴더에서 다운로드\n",
        "\n",
        "tv_x = np.load(PREFIX + 'train_x.npy')\n",
        "tv_y = np.load(PREFIX + 'train_y.npy')\n",
        "\n",
        "# sequence length\n",
        "length = tv_x.shape[1]\n",
        "# dimension\n",
        "dim = tv_x.shape[2]\n",
        "\n",
        "train_x, test_x, train_y, test_y = train_test_split(tv_x, tv_y, test_size=0.25, random_state=0)\n",
        "train_x, validation_x, train_y, validation_y = train_test_split(train_x, train_y, test_size=0.33, random_state=0)\n",
        "\n",
        "min_val = train_x.min()\n",
        "max_val = train_x.max()\n",
        "\n",
        "train_x = (train_x - min_val) / (max_val - min_val)\n",
        "validation_x = (validation_x - min_val) / (max_val - min_val)\n",
        "test_x = (test_x - min_val) / (max_val - min_val)"
      ]
    },
    {
      "cell_type": "markdown",
      "metadata": {
        "id": "cZoHqmUGsh-c"
      },
      "source": [
        "## Basic data augmentation"
      ]
    },
    {
      "cell_type": "code",
      "execution_count": 613,
      "metadata": {
        "id": "nWseG2tg72Ez"
      },
      "outputs": [],
      "source": [
        "# augmenting functions\n",
        "def jitter(x, y, n_jitter, scale):\n",
        "  js = np.random.choice(len(x), size=n_jitter)\n",
        "\n",
        "  jittered_arr = np.empty((n_jitter, length, dim))\n",
        "  answer_arr = np.empty(n_jitter)\n",
        "  jitter_original_arr = np.empty((n_jitter, length, dim))\n",
        "\n",
        "  for i in range(len(js)):\n",
        "    ji = js[i]\n",
        "    data = x[ji]\n",
        "\n",
        "    j = np.random.normal(scale=scale, size=(length, dim))\n",
        "    jittered = data + j\n",
        "\n",
        "    jittered_arr[i] = jittered\n",
        "    answer_arr[i] = y[ji]\n",
        "    jitter_original_arr[i] = data\n",
        "\n",
        "  return jittered_arr, answer_arr, jitter_original_arr\n",
        "\n",
        "def scale(x, y, n_scale, scale):\n",
        "  ss = np.random.choice(len(x), size=n_scale)\n",
        "\n",
        "  scaled_arr = np.empty((n_scale, length, dim))\n",
        "  answer_arr = np.empty(n_scale)\n",
        "  scale_original_arr = np.empty((n_scale, length, dim))\n",
        "\n",
        "  for i in range(len(ss)):\n",
        "    si = ss[i]\n",
        "    data = x[si]\n",
        "\n",
        "    s = np.random.normal(loc=1, scale=scale, size=(1, dim))\n",
        "    scaled = data * s\n",
        "\n",
        "    scaled_arr[i] = scaled\n",
        "    answer_arr[i] = y[si]\n",
        "    scale_original_arr[i] = data\n",
        "\n",
        "  return scaled_arr, answer_arr, scale_original_arr\n"
      ]
    },
    {
      "cell_type": "code",
      "execution_count": 614,
      "metadata": {
        "colab": {
          "base_uri": "https://localhost:8080/",
          "height": 762
        },
        "id": "aWjQTsQZC0vf",
        "outputId": "1501a6f8-bb43-4d1e-e2bb-18d53d676498"
      },
      "outputs": [],
      "source": [
        "# n_jitter = 5\n",
        "# n_scale = 5\n",
        "\n",
        "# jittered_arr, jitter_original_arr = jitter(train_x, n_jitter)\n",
        "# scaled_arr, scale_original_arr = scale(train_x, n_scale)\n",
        "\n",
        "# for i in [0, 1, 2]:\n",
        "#   fig, (ax1, ax2) = plt.subplots(1, 2, figsize=(20, 4))\n",
        "#   ax1.plot(jittered_arr[i,:,0])\n",
        "#   ax1.plot(jitter_original_arr[i,:,0])\n",
        "#   ax2.plot(scaled_arr[i,:,0])\n",
        "#   ax2.plot(scale_original_arr[i,:,0])\n",
        "#   plt.show()"
      ]
    },
    {
      "cell_type": "markdown",
      "metadata": {
        "id": "GvfVaz2esii2"
      },
      "source": [
        "## GAN data augmentation"
      ]
    },
    {
      "cell_type": "code",
      "execution_count": null,
      "metadata": {
        "id": "_2UmR4MVsp7Q"
      },
      "outputs": [],
      "source": []
    },
    {
      "cell_type": "markdown",
      "metadata": {
        "id": "B2EB218hss2c"
      },
      "source": [
        "## Basic RNN"
      ]
    },
    {
      "cell_type": "code",
      "execution_count": 615,
      "metadata": {
        "id": "M91uZtFOsxTH"
      },
      "outputs": [],
      "source": [
        "# basic Vanilla RNN\n",
        "class VanillaRNN(nn.Module):\n",
        "  def __init__(self, input_size, hidden_size, num_layers, dropout, device):\n",
        "    super(VanillaRNN, self).__init__()\n",
        "    self.device = device\n",
        "    self.hidden_size = hidden_size\n",
        "    self.num_layers = num_layers\n",
        "\n",
        "    self.d = 1\n",
        "    self.rnn = nn.RNN(input_size, hidden_size, num_layers, batch_first=True, dropout=dropout, bidirectional=False).to(self.device)\n",
        "    self.bn = nn.BatchNorm1d(self.d * hidden_size).to(self.device)\n",
        "    self.fc = nn.Sequential(nn.Linear(self.d * hidden_size, 1), nn.Sigmoid()).to(self.device)\n",
        "\n",
        "  def forward(self, x):\n",
        "    h0 = torch.zeros(self.num_layers*self.d, x.size()[0], self.hidden_size).to(self.device) # 초기 hidden state\n",
        "    \n",
        "    out, _ = self.rnn(x, h0)\n",
        "    out = out[:,-1]\n",
        "\n",
        "    # normalization + layering\n",
        "    out = self.fc(\n",
        "        self.bn(out)\n",
        "      )\n",
        "    return out\n",
        "\n",
        "# LSTM\n",
        "class LSTM(nn.Module): # LSTM with 1 seq\n",
        "  def __init__(self, input_size, hidden_size, num_layers, dropout, device):\n",
        "    super(LSTM, self).__init__()\n",
        "    self.device = device\n",
        "    self.hidden_size = hidden_size\n",
        "    self.num_layers = num_layers\n",
        "\n",
        "    self.d = 1\n",
        "\n",
        "    self.lstm = nn.LSTM(input_size, hidden_size, num_layers, batch_first=True, dropout=dropout, bidirectional=False).to(self.device)\n",
        "    self.bn = nn.BatchNorm1d(self.d * hidden_size).to(self.device)\n",
        "    self.fc = nn.Sequential(nn.Linear(self.d * hidden_size, 1), nn.Sigmoid()).to(self.device)\n",
        "\n",
        "  def forward(self, x):\n",
        "    h0 = torch.zeros(self.num_layers*self.d, x.size()[0], self.hidden_size).to(self.device) # 초기 hidden state\n",
        "    c0 = torch.zeros(self.num_layers*self.d, x.size()[0], self.hidden_size).to(self.device) # 초기 cell state\n",
        "    \n",
        "    out, _ = self.lstm(x, (h0, c0))\n",
        "    out = out[:,-1]\n",
        "\n",
        "    # normalization + layering\n",
        "    out = self.fc(\n",
        "        self.bn(out)\n",
        "      )\n",
        "    return out\n",
        "\n",
        "# GRU\n",
        "class GRU(nn.Module):\n",
        "  def __init__(self, input_size, hidden_size, num_layers, dropout, device):\n",
        "    super(GRU, self).__init__()\n",
        "    self.input_size = input_size\n",
        "    self.device = device\n",
        "    self.hidden_size = hidden_size\n",
        "    self.num_layers = num_layers\n",
        "\n",
        "    self.d = 1\n",
        "\n",
        "    self.gru = nn.GRU(input_size, hidden_size, num_layers, batch_first=True, dropout=dropout, bidirectional=False).to(self.device)\n",
        "    self.bn = nn.BatchNorm1d(self.d * hidden_size).to(self.device)\n",
        "    self.fc = nn.Sequential(nn.Linear(self.d * hidden_size, 1), nn.Sigmoid()).to(self.device)\n",
        "\n",
        "  def forward(self, x):\n",
        "    h0 = torch.zeros(self.num_layers*self.d, x.size()[0], self.hidden_size).to(self.device) # 초기 hidden state\n",
        "    \n",
        "    out, _ = self.gru(x, h0)\n",
        "    out = out[:,-1]\n",
        "\n",
        "    # normalization + layering\n",
        "    out = self.fc(\n",
        "        self.bn(out)\n",
        "      )\n",
        "    return out"
      ]
    },
    {
      "cell_type": "markdown",
      "metadata": {
        "id": "x27P755sstJz"
      },
      "source": [
        "## Attention-based RNN"
      ]
    },
    {
      "cell_type": "code",
      "execution_count": null,
      "metadata": {
        "id": "flFWANmSs0K4"
      },
      "outputs": [],
      "source": []
    },
    {
      "cell_type": "markdown",
      "metadata": {
        "id": "CK7nnkrpstbQ"
      },
      "source": [
        "## 결과 종합"
      ]
    },
    {
      "cell_type": "code",
      "execution_count": 616,
      "metadata": {},
      "outputs": [],
      "source": [
        "def to_dataloader(args, x, y, device):\n",
        "  x_tensor = torch.Tensor(x).to(device) # transform to torch tensor\n",
        "  y_tensor = torch.Tensor(y).to(device)\n",
        "\n",
        "  dataset = TensorDataset(x_tensor, y_tensor) # create your datset\n",
        "  return DataLoader(dataset, batch_size=args['batch_size']) # create your dataloader"
      ]
    },
    {
      "cell_type": "code",
      "execution_count": 617,
      "metadata": {
        "id": "5S_hwzBps16H"
      },
      "outputs": [],
      "source": [
        "def augment_jitter(n_jitter, alpha, train_x, train_y):\n",
        "    jittered_x, jittered_y, _ = jitter(train_x, train_y, n_jitter, alpha)\n",
        "\n",
        "    ax = np.empty((train_x.shape[0] + n_jitter, train_x.shape[1], train_x.shape[2]))\n",
        "    ay = np.empty(train_x.shape[0] + n_jitter)\n",
        "\n",
        "    for i in range(len(train_x)):\n",
        "        ax[i] = train_x[i]\n",
        "        ay[i] = train_y[i]\n",
        "\n",
        "    for i in range(n_jitter):\n",
        "        ax[i+len(train_x)] = jittered_x[i]\n",
        "        ay[i+len(train_x)] = jittered_y[i]\n",
        "\n",
        "    return ax, ay"
      ]
    },
    {
      "cell_type": "code",
      "execution_count": 618,
      "metadata": {},
      "outputs": [
        {
          "name": "stdout",
          "output_type": "stream",
          "text": [
            "cpu is ready\n"
          ]
        }
      ],
      "source": [
        "criterion = nn.BCELoss()\n",
        "\n",
        "validation_y = np.reshape(validation_y, (-1, 1))\n",
        "\n",
        "device = torch.device('cuda:0' if torch.cuda.is_available() else 'cpu')\n",
        "print(device,'is ready')"
      ]
    },
    {
      "cell_type": "code",
      "execution_count": 645,
      "metadata": {},
      "outputs": [],
      "source": [
        "def train_model(model, optimizer, args, train_x, train_y, validation_x, validation_y, device):\n",
        "    train_dataloader = to_dataloader(args, train_x, train_y, device)\n",
        "    validation_dataloader = to_dataloader(args, validation_x, validation_y, device)\n",
        "    running_loss = []\n",
        "\n",
        "    val_acc = []\n",
        "    train_acc = []\n",
        "\n",
        "    best_acc = -1\n",
        "\n",
        "    for epoch in range(args['num_epochs']):\n",
        "        if DEBUG:\n",
        "            if (epoch % 150 == 0 and epoch!=0) or epoch==299:\n",
        "                print('epoch: {}'.format(epoch))\n",
        "                plt.plot(train_acc)\n",
        "                plt.plot(val_acc)\n",
        "                plt.legend(['train', 'validation'])\n",
        "                plt.show()\n",
        "    \n",
        "        # train mode\n",
        "        model.train()\n",
        "\n",
        "        for seq, target in train_dataloader:\n",
        "            out = model(seq)\n",
        "            loss = criterion(out, target)\n",
        "            optimizer.zero_grad()\n",
        "            loss.backward()\n",
        "            optimizer.step()\n",
        "\n",
        "            running_loss.append(loss.item())\n",
        "        \n",
        "        # eval mode\n",
        "        model.eval()\n",
        "\n",
        "        if epoch % 2 == 0:\n",
        "            val_correct = 0\n",
        "            train_correct = 0\n",
        "\n",
        "            with torch.no_grad():\n",
        "                for seq, target in validation_dataloader:\n",
        "                    out = model(seq)\n",
        "                    result = (out > 0.5).float()\n",
        "                    val_correct += torch.sum(result == target).data\n",
        "\n",
        "                for seq, target in train_dataloader:\n",
        "                    out = model(seq)\n",
        "                    result = (out > 0.5).float()\n",
        "                    train_correct += torch.sum(result == target).data\n",
        "\n",
        "                va = val_correct / len(validation_x)\n",
        "\n",
        "                val_acc.append(va)\n",
        "                train_acc.append(train_correct / len(train_x))\n",
        "\n",
        "                # saving best model\n",
        "                if va > best_acc:\n",
        "                    best_acc = va.item()\n",
        "\n",
        "                    torch.save(model, path)\n",
        "\n",
        "    model = torch.load(path)\n",
        "    model.eval()\n",
        "\n",
        "    print(\"best:\", best_acc)\n",
        "\n",
        "    return model, best_acc"
      ]
    },
    {
      "cell_type": "code",
      "execution_count": 620,
      "metadata": {},
      "outputs": [],
      "source": [
        "def feature_importance(model, x, y, feature_idx, device):\n",
        "    feature_size = x.shape[2]\n",
        "    data_size = x.shape[0]\n",
        "    n_repeat = 30\n",
        "    importance = np.empty(feature_size)\n",
        "\n",
        "    x_tensor = torch.Tensor(x).to(device)\n",
        "    y_tensor = torch.Tensor(y).to(device)\n",
        "    out = model(x_tensor)\n",
        "    result = (out > 0.5).float()\n",
        "    correct = torch.sum(result == y_tensor).data\n",
        "    total_accuracy = correct / data_size\n",
        "\n",
        "    for feature in range(feature_size):\n",
        "        feature_correct_sum = 0\n",
        "\n",
        "        for i in range(n_repeat):\n",
        "            random_idx = np.random.permutation(data_size)\n",
        "\n",
        "            x_shuffle = x.copy()\n",
        "            for j in range(data_size):\n",
        "                k = random_idx[j]\n",
        "                x_shuffle[j,:,feature] = x[k,:,feature]\n",
        "\n",
        "            x_shuffle_tensor = torch.Tensor(x_shuffle).to(device)\n",
        "\n",
        "            out = model(x_shuffle_tensor)\n",
        "            result = (out > 0.5).float()\n",
        "            feature_correct_sum += torch.sum(result == y_tensor).data\n",
        "\n",
        "        average_accuracy = feature_correct_sum / data_size / n_repeat\n",
        "        importance[feature] = total_accuracy - average_accuracy\n",
        "    \n",
        "    dtype = [('idx', int), ('importance', float)]\n",
        "    sorted_importance = np.empty(feature_size, dtype=dtype)\n",
        "\n",
        "    for i in range(feature_size):\n",
        "        sorted_importance[i] = (feature_idx[i], importance[i])\n",
        "\n",
        "    return np.sort(sorted_importance, order='importance')"
      ]
    },
    {
      "cell_type": "code",
      "execution_count": 621,
      "metadata": {},
      "outputs": [],
      "source": [
        "def select_k_feature(k, model, train_x, validation_x, validation_y, feature_idx, device):\n",
        "    sorted_importance = feature_importance(model, validation_x, validation_y, feature_idx, device)\n",
        "\n",
        "    selected = sorted_importance[-k:]\n",
        "\n",
        "    print(selected)\n",
        "\n",
        "    feature_selected = []\n",
        "    for i in range(k):\n",
        "        feature_selected.append(selected[i][0])\n",
        "\n",
        "    feature_selected = sorted(feature_selected)\n",
        "\n",
        "    train_x_selected = train_x[:, :, feature_selected]\n",
        "    validation_x_selected = validation_x[:, :, feature_selected]\n",
        "\n",
        "    return feature_selected, train_x_selected, validation_x_selected"
      ]
    },
    {
      "cell_type": "code",
      "execution_count": 654,
      "metadata": {},
      "outputs": [],
      "source": [
        "def hyperparameter_search(args, train_x, train_y, validation_x, validation_y, device):\n",
        "    augmented_x, augmented_y = augment_jitter(args['n_jitter'], args['jitter_alpha'], train_x, train_y)\n",
        "    augmented_y = np.reshape(augmented_y, (-1, 1))\n",
        "\n",
        "    model = GRU(dim, args['hidden_size'], args['num_layers'], args['dropout'], device)\n",
        "    optimizer = optim.Adam(model.parameters(), lr=args['lr'], weight_decay=args['weight_decay'])\n",
        "    model, accuracy = train_model(model, optimizer, args, augmented_x, augmented_y, validation_x, validation_y, device)\n",
        "\n",
        "    feature_idx = list(range(dim))\n",
        "\n",
        "    best_accuracy = accuracy\n",
        "    best_feature_size = dim\n",
        "\n",
        "    train_x_selected = augmented_x\n",
        "    train_y = augmented_y\n",
        "    validation_x_selected = validation_x\n",
        "\n",
        "    for feature_size in [24, 20, 16]:\n",
        "        print('select: {}'.format(feature_size))\n",
        "\n",
        "        feature_idx, train_x_selected, validation_x_selected = select_k_feature(\n",
        "            feature_size, model, train_x_selected, validation_x_selected, validation_y, feature_idx, device)\n",
        "\n",
        "        print(feature_idx)\n",
        "\n",
        "        feature_idx = list(range(len(feature_idx)))\n",
        "\n",
        "        model = GRU(feature_size, args['hidden_size'], args['num_layers'], args['dropout'], device)\n",
        "        optimizer = optim.Adam(model.parameters(), lr=lr, weight_decay=weight_decay)\n",
        "        model, accuracy = train_model(\n",
        "            model, optimizer, args, train_x_selected, train_y, validation_x_selected, validation_y, device)\n",
        "\n",
        "        if accuracy > best_accuracy:\n",
        "            best_accuracy = accuracy\n",
        "            best_feature_size = feature_size\n",
        "\n",
        "    print('best accuracy: {}'.format(best_accuracy))\n",
        "    print('best feature size: {}'.format(best_feature_size))\n",
        "\n",
        "    return best_accuracy, best_feature_size\n"
      ]
    },
    {
      "cell_type": "code",
      "execution_count": 655,
      "metadata": {},
      "outputs": [],
      "source": [
        "args_list = {\n",
        "    'batch_size': [1024],\n",
        "    'lr': [1e-3],\n",
        "    'num_epochs': [300],\n",
        "    'weight_decay': [0],\n",
        "    'dropout': [0.5],\n",
        "    'hidden_size': [16],\n",
        "    'num_layers': [2],\n",
        "    'n_jitter': [100, 800, 6400, 51200],\n",
        "    'jitter_alpha': [0.01, 0.02, 0.04, 0.08],\n",
        "}"
      ]
    },
    {
      "cell_type": "code",
      "execution_count": 657,
      "metadata": {},
      "outputs": [
        {
          "name": "stdout",
          "output_type": "stream",
          "text": [
            "{'batch_size': 1024, 'lr': 0.001, 'num_epochs': 300, 'weight_decay': 0, 'dropout': 0.5, 'hidden_size': 16, 'num_layers': 2, 'n_jitter': 100, 'jitter_alpha': 0.01}\n"
          ]
        },
        {
          "ename": "KeyboardInterrupt",
          "evalue": "",
          "output_type": "error",
          "traceback": [
            "\u001b[0;31m---------------------------------------------------------------------------\u001b[0m",
            "\u001b[0;31mKeyboardInterrupt\u001b[0m                         Traceback (most recent call last)",
            "\u001b[0;32m/var/folders/g1/yhqrhz_55mj8z46pfw987ckm0000gn/T/ipykernel_2989/2621350081.py\u001b[0m in \u001b[0;36m<module>\u001b[0;34m\u001b[0m\n\u001b[1;32m     11\u001b[0m     \u001b[0mprint\u001b[0m\u001b[0;34m(\u001b[0m\u001b[0margs\u001b[0m\u001b[0;34m)\u001b[0m\u001b[0;34m\u001b[0m\u001b[0;34m\u001b[0m\u001b[0m\n\u001b[1;32m     12\u001b[0m \u001b[0;34m\u001b[0m\u001b[0m\n\u001b[0;32m---> 13\u001b[0;31m     \u001b[0mbest_accuracy\u001b[0m\u001b[0;34m,\u001b[0m \u001b[0mbest_feature_size\u001b[0m \u001b[0;34m=\u001b[0m \u001b[0mhyperparameter_search\u001b[0m\u001b[0;34m(\u001b[0m\u001b[0margs\u001b[0m\u001b[0;34m,\u001b[0m \u001b[0mtrain_x\u001b[0m\u001b[0;34m,\u001b[0m \u001b[0mtrain_y\u001b[0m\u001b[0;34m,\u001b[0m \u001b[0mvalidation_x\u001b[0m\u001b[0;34m,\u001b[0m \u001b[0mvalidation_y\u001b[0m\u001b[0;34m,\u001b[0m \u001b[0mdevice\u001b[0m\u001b[0;34m)\u001b[0m\u001b[0;34m\u001b[0m\u001b[0;34m\u001b[0m\u001b[0m\n\u001b[0m\u001b[1;32m     14\u001b[0m \u001b[0;34m\u001b[0m\u001b[0m\n\u001b[1;32m     15\u001b[0m     \u001b[0;32mwith\u001b[0m \u001b[0mopen\u001b[0m\u001b[0;34m(\u001b[0m\u001b[0;34m'result.csv'\u001b[0m\u001b[0;34m,\u001b[0m\u001b[0;34m'a'\u001b[0m\u001b[0;34m)\u001b[0m \u001b[0;32mas\u001b[0m \u001b[0mf\u001b[0m\u001b[0;34m:\u001b[0m\u001b[0;34m\u001b[0m\u001b[0;34m\u001b[0m\u001b[0m\n",
            "\u001b[0;32m/var/folders/g1/yhqrhz_55mj8z46pfw987ckm0000gn/T/ipykernel_2989/2090485477.py\u001b[0m in \u001b[0;36mhyperparameter_search\u001b[0;34m(args, train_x, train_y, validation_x, validation_y, device)\u001b[0m\n\u001b[1;32m      5\u001b[0m     \u001b[0mmodel\u001b[0m \u001b[0;34m=\u001b[0m \u001b[0mGRU\u001b[0m\u001b[0;34m(\u001b[0m\u001b[0mdim\u001b[0m\u001b[0;34m,\u001b[0m \u001b[0margs\u001b[0m\u001b[0;34m[\u001b[0m\u001b[0;34m'hidden_size'\u001b[0m\u001b[0;34m]\u001b[0m\u001b[0;34m,\u001b[0m \u001b[0margs\u001b[0m\u001b[0;34m[\u001b[0m\u001b[0;34m'num_layers'\u001b[0m\u001b[0;34m]\u001b[0m\u001b[0;34m,\u001b[0m \u001b[0margs\u001b[0m\u001b[0;34m[\u001b[0m\u001b[0;34m'dropout'\u001b[0m\u001b[0;34m]\u001b[0m\u001b[0;34m,\u001b[0m \u001b[0mdevice\u001b[0m\u001b[0;34m)\u001b[0m\u001b[0;34m\u001b[0m\u001b[0;34m\u001b[0m\u001b[0m\n\u001b[1;32m      6\u001b[0m     \u001b[0moptimizer\u001b[0m \u001b[0;34m=\u001b[0m \u001b[0moptim\u001b[0m\u001b[0;34m.\u001b[0m\u001b[0mAdam\u001b[0m\u001b[0;34m(\u001b[0m\u001b[0mmodel\u001b[0m\u001b[0;34m.\u001b[0m\u001b[0mparameters\u001b[0m\u001b[0;34m(\u001b[0m\u001b[0;34m)\u001b[0m\u001b[0;34m,\u001b[0m \u001b[0mlr\u001b[0m\u001b[0;34m=\u001b[0m\u001b[0margs\u001b[0m\u001b[0;34m[\u001b[0m\u001b[0;34m'lr'\u001b[0m\u001b[0;34m]\u001b[0m\u001b[0;34m,\u001b[0m \u001b[0mweight_decay\u001b[0m\u001b[0;34m=\u001b[0m\u001b[0margs\u001b[0m\u001b[0;34m[\u001b[0m\u001b[0;34m'weight_decay'\u001b[0m\u001b[0;34m]\u001b[0m\u001b[0;34m)\u001b[0m\u001b[0;34m\u001b[0m\u001b[0;34m\u001b[0m\u001b[0m\n\u001b[0;32m----> 7\u001b[0;31m     \u001b[0mmodel\u001b[0m\u001b[0;34m,\u001b[0m \u001b[0maccuracy\u001b[0m \u001b[0;34m=\u001b[0m \u001b[0mtrain_model\u001b[0m\u001b[0;34m(\u001b[0m\u001b[0mmodel\u001b[0m\u001b[0;34m,\u001b[0m \u001b[0moptimizer\u001b[0m\u001b[0;34m,\u001b[0m \u001b[0margs\u001b[0m\u001b[0;34m,\u001b[0m \u001b[0maugmented_x\u001b[0m\u001b[0;34m,\u001b[0m \u001b[0maugmented_y\u001b[0m\u001b[0;34m,\u001b[0m \u001b[0mvalidation_x\u001b[0m\u001b[0;34m,\u001b[0m \u001b[0mvalidation_y\u001b[0m\u001b[0;34m,\u001b[0m \u001b[0mdevice\u001b[0m\u001b[0;34m)\u001b[0m\u001b[0;34m\u001b[0m\u001b[0;34m\u001b[0m\u001b[0m\n\u001b[0m\u001b[1;32m      8\u001b[0m \u001b[0;34m\u001b[0m\u001b[0m\n\u001b[1;32m      9\u001b[0m     \u001b[0mfeature_idx\u001b[0m \u001b[0;34m=\u001b[0m \u001b[0mlist\u001b[0m\u001b[0;34m(\u001b[0m\u001b[0mrange\u001b[0m\u001b[0;34m(\u001b[0m\u001b[0mdim\u001b[0m\u001b[0;34m)\u001b[0m\u001b[0;34m)\u001b[0m\u001b[0;34m\u001b[0m\u001b[0;34m\u001b[0m\u001b[0m\n",
            "\u001b[0;32m/var/folders/g1/yhqrhz_55mj8z46pfw987ckm0000gn/T/ipykernel_2989/846372279.py\u001b[0m in \u001b[0;36mtrain_model\u001b[0;34m(model, optimizer, args, train_x, train_y, validation_x, validation_y, device)\u001b[0m\n\u001b[1;32m     25\u001b[0m             \u001b[0mloss\u001b[0m \u001b[0;34m=\u001b[0m \u001b[0mcriterion\u001b[0m\u001b[0;34m(\u001b[0m\u001b[0mout\u001b[0m\u001b[0;34m,\u001b[0m \u001b[0mtarget\u001b[0m\u001b[0;34m)\u001b[0m\u001b[0;34m\u001b[0m\u001b[0;34m\u001b[0m\u001b[0m\n\u001b[1;32m     26\u001b[0m             \u001b[0moptimizer\u001b[0m\u001b[0;34m.\u001b[0m\u001b[0mzero_grad\u001b[0m\u001b[0;34m(\u001b[0m\u001b[0;34m)\u001b[0m\u001b[0;34m\u001b[0m\u001b[0;34m\u001b[0m\u001b[0m\n\u001b[0;32m---> 27\u001b[0;31m             \u001b[0mloss\u001b[0m\u001b[0;34m.\u001b[0m\u001b[0mbackward\u001b[0m\u001b[0;34m(\u001b[0m\u001b[0;34m)\u001b[0m\u001b[0;34m\u001b[0m\u001b[0;34m\u001b[0m\u001b[0m\n\u001b[0m\u001b[1;32m     28\u001b[0m             \u001b[0moptimizer\u001b[0m\u001b[0;34m.\u001b[0m\u001b[0mstep\u001b[0m\u001b[0;34m(\u001b[0m\u001b[0;34m)\u001b[0m\u001b[0;34m\u001b[0m\u001b[0;34m\u001b[0m\u001b[0m\n\u001b[1;32m     29\u001b[0m \u001b[0;34m\u001b[0m\u001b[0m\n",
            "\u001b[0;32m~/miniconda3/lib/python3.9/site-packages/torch/_tensor.py\u001b[0m in \u001b[0;36mbackward\u001b[0;34m(self, gradient, retain_graph, create_graph, inputs)\u001b[0m\n\u001b[1;32m    305\u001b[0m                 \u001b[0mcreate_graph\u001b[0m\u001b[0;34m=\u001b[0m\u001b[0mcreate_graph\u001b[0m\u001b[0;34m,\u001b[0m\u001b[0;34m\u001b[0m\u001b[0;34m\u001b[0m\u001b[0m\n\u001b[1;32m    306\u001b[0m                 inputs=inputs)\n\u001b[0;32m--> 307\u001b[0;31m         \u001b[0mtorch\u001b[0m\u001b[0;34m.\u001b[0m\u001b[0mautograd\u001b[0m\u001b[0;34m.\u001b[0m\u001b[0mbackward\u001b[0m\u001b[0;34m(\u001b[0m\u001b[0mself\u001b[0m\u001b[0;34m,\u001b[0m \u001b[0mgradient\u001b[0m\u001b[0;34m,\u001b[0m \u001b[0mretain_graph\u001b[0m\u001b[0;34m,\u001b[0m \u001b[0mcreate_graph\u001b[0m\u001b[0;34m,\u001b[0m \u001b[0minputs\u001b[0m\u001b[0;34m=\u001b[0m\u001b[0minputs\u001b[0m\u001b[0;34m)\u001b[0m\u001b[0;34m\u001b[0m\u001b[0;34m\u001b[0m\u001b[0m\n\u001b[0m\u001b[1;32m    308\u001b[0m \u001b[0;34m\u001b[0m\u001b[0m\n\u001b[1;32m    309\u001b[0m     \u001b[0;32mdef\u001b[0m \u001b[0mregister_hook\u001b[0m\u001b[0;34m(\u001b[0m\u001b[0mself\u001b[0m\u001b[0;34m,\u001b[0m \u001b[0mhook\u001b[0m\u001b[0;34m)\u001b[0m\u001b[0;34m:\u001b[0m\u001b[0;34m\u001b[0m\u001b[0;34m\u001b[0m\u001b[0m\n",
            "\u001b[0;32m~/miniconda3/lib/python3.9/site-packages/torch/autograd/__init__.py\u001b[0m in \u001b[0;36mbackward\u001b[0;34m(tensors, grad_tensors, retain_graph, create_graph, grad_variables, inputs)\u001b[0m\n\u001b[1;32m    152\u001b[0m         \u001b[0mretain_graph\u001b[0m \u001b[0;34m=\u001b[0m \u001b[0mcreate_graph\u001b[0m\u001b[0;34m\u001b[0m\u001b[0;34m\u001b[0m\u001b[0m\n\u001b[1;32m    153\u001b[0m \u001b[0;34m\u001b[0m\u001b[0m\n\u001b[0;32m--> 154\u001b[0;31m     Variable._execution_engine.run_backward(\n\u001b[0m\u001b[1;32m    155\u001b[0m         \u001b[0mtensors\u001b[0m\u001b[0;34m,\u001b[0m \u001b[0mgrad_tensors_\u001b[0m\u001b[0;34m,\u001b[0m \u001b[0mretain_graph\u001b[0m\u001b[0;34m,\u001b[0m \u001b[0mcreate_graph\u001b[0m\u001b[0;34m,\u001b[0m \u001b[0minputs\u001b[0m\u001b[0;34m,\u001b[0m\u001b[0;34m\u001b[0m\u001b[0;34m\u001b[0m\u001b[0m\n\u001b[1;32m    156\u001b[0m         allow_unreachable=True, accumulate_grad=True)  # allow_unreachable flag\n",
            "\u001b[0;31mKeyboardInterrupt\u001b[0m: "
          ]
        }
      ],
      "source": [
        "values = list(args_list.values())\n",
        "hyperparameters = list(product(*values))\n",
        "\n",
        "for hyperparameter in hyperparameters:\n",
        "    args = dict()\n",
        "\n",
        "    for i in range(len(args_list)):\n",
        "        key = list(args_list.keys())[i]\n",
        "        args[key] = hyperparameter[i]\n",
        "\n",
        "    print(args)\n",
        "\n",
        "    best_accuracy, best_feature_size = hyperparameter_search(args, train_x, train_y, validation_x, validation_y, device)\n",
        "\n",
        "    with open('result.csv','a') as f:\n",
        "        f.write('{},{},{},{}'.format(args['n_jitter'], args['jitter_alpha'], best_accuracy, best_feature_size))\n",
        "        f.write('\\n')"
      ]
    }
  ],
  "metadata": {
    "colab": {
      "collapsed_sections": [],
      "name": "main.ipynb",
      "provenance": []
    },
    "kernelspec": {
      "display_name": "Python 3 (ipykernel)",
      "language": "python",
      "name": "python3"
    },
    "language_info": {
      "codemirror_mode": {
        "name": "ipython",
        "version": 3
      },
      "file_extension": ".py",
      "mimetype": "text/x-python",
      "name": "python",
      "nbconvert_exporter": "python",
      "pygments_lexer": "ipython3",
      "version": "3.9.5"
    }
  },
  "nbformat": 4,
  "nbformat_minor": 0
}
